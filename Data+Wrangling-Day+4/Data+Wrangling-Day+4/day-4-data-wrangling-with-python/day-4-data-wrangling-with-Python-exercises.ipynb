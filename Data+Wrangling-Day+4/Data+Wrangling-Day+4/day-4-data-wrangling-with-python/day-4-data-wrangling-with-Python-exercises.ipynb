{
 "cells": [
  {
   "cell_type": "markdown",
   "metadata": {},
   "source": [
    "# Day 4 Data wrangling with Python - Exercises "
   ]
  },
  {
   "cell_type": "markdown",
   "metadata": {},
   "source": [
    "## Exercise 1"
   ]
  },
  {
   "cell_type": "markdown",
   "metadata": {},
   "source": [
    "#### Question 1\n",
    "##### Load packages os, pandas and numpy.\n"
   ]
  },
  {
   "cell_type": "code",
   "execution_count": 1,
   "metadata": {},
   "outputs": [],
   "source": [
    "import pathlib"
   ]
  },
  {
   "cell_type": "code",
   "execution_count": 13,
   "metadata": {},
   "outputs": [],
   "source": [
    "tb = pathlib.Path.cwd().parent.parent.parent / 'data' / 'data' / 'TB_data.csv'"
   ]
  },
  {
   "cell_type": "code",
   "execution_count": 14,
   "metadata": {},
   "outputs": [
    {
     "data": {
      "text/plain": [
       "WindowsPath('c:/cgi-data-science/Data-Wrangling-in-Python/data/data/TB_data.csv')"
      ]
     },
     "execution_count": 14,
     "metadata": {},
     "output_type": "execute_result"
    }
   ],
   "source": [
    "tb"
   ]
  },
  {
   "cell_type": "code",
   "execution_count": 18,
   "metadata": {},
   "outputs": [],
   "source": [
    "df = pd.read_csv('TB_data.csv')"
   ]
  },
  {
   "cell_type": "markdown",
   "metadata": {},
   "source": [
    "##### Set the working directory to data directory.\n",
    "##### Print the working directory."
   ]
  },
  {
   "cell_type": "code",
   "execution_count": null,
   "metadata": {},
   "outputs": [],
   "source": []
  },
  {
   "cell_type": "markdown",
   "metadata": {},
   "source": [
    "#### Answer:"
   ]
  },
  {
   "cell_type": "markdown",
   "metadata": {},
   "source": [
    "#### Question 2\n",
    "##### Read in 'TB_data.csv' into a variable called `tb_data` using pandas.\n"
   ]
  },
  {
   "cell_type": "code",
   "execution_count": null,
   "metadata": {},
   "outputs": [],
   "source": []
  },
  {
   "cell_type": "markdown",
   "metadata": {},
   "source": [
    "##### Print the first 20 rows of the DataFrame."
   ]
  },
  {
   "cell_type": "code",
   "execution_count": 19,
   "metadata": {},
   "outputs": [
    {
     "data": {
      "text/html": [
       "<div><div id=d3e55f62-65da-4016-8740-606c28e1d8e4 style=\"display:none; background-color:#9D6CFF; color:white; width:200px; height:30px; padding-left:5px; border-radius:4px; flex-direction:row; justify-content:space-around; align-items:center;\" onmouseover=\"this.style.backgroundColor='#BA9BF8'\" onmouseout=\"this.style.backgroundColor='#9D6CFF'\" onclick=\"window.commands?.execute('create-mitosheet-from-dataframe-output');\">See Full Dataframe in Mito</div> <script> if (window.commands?.hasCommand('create-mitosheet-from-dataframe-output')) document.getElementById('d3e55f62-65da-4016-8740-606c28e1d8e4').style.display = 'flex' </script> <table border=\"1\" class=\"dataframe\">\n",
       "  <thead>\n",
       "    <tr style=\"text-align: right;\">\n",
       "      <th></th>\n",
       "      <th>country</th>\n",
       "      <th>iso2</th>\n",
       "      <th>iso3</th>\n",
       "      <th>iso_numeric</th>\n",
       "      <th>year</th>\n",
       "      <th>measure</th>\n",
       "      <th>unit</th>\n",
       "      <th>age_group</th>\n",
       "      <th>sex</th>\n",
       "      <th>best</th>\n",
       "      <th>lo</th>\n",
       "      <th>hi</th>\n",
       "    </tr>\n",
       "  </thead>\n",
       "  <tbody>\n",
       "    <tr>\n",
       "      <th>0</th>\n",
       "      <td>Afghanistan</td>\n",
       "      <td>AF</td>\n",
       "      <td>AFG</td>\n",
       "      <td>4</td>\n",
       "      <td>2017</td>\n",
       "      <td>inc</td>\n",
       "      <td>num</td>\n",
       "      <td>0-14</td>\n",
       "      <td>a</td>\n",
       "      <td>7400</td>\n",
       "      <td>6500.0</td>\n",
       "      <td>8400.0</td>\n",
       "    </tr>\n",
       "    <tr>\n",
       "      <th>1</th>\n",
       "      <td>Afghanistan</td>\n",
       "      <td>AF</td>\n",
       "      <td>AFG</td>\n",
       "      <td>4</td>\n",
       "      <td>2017</td>\n",
       "      <td>inc</td>\n",
       "      <td>num</td>\n",
       "      <td>0-14</td>\n",
       "      <td>f</td>\n",
       "      <td>3500</td>\n",
       "      <td>3200.0</td>\n",
       "      <td>3900.0</td>\n",
       "    </tr>\n",
       "    <tr>\n",
       "      <th>2</th>\n",
       "      <td>Afghanistan</td>\n",
       "      <td>AF</td>\n",
       "      <td>AFG</td>\n",
       "      <td>4</td>\n",
       "      <td>2017</td>\n",
       "      <td>inc</td>\n",
       "      <td>num</td>\n",
       "      <td>0-14</td>\n",
       "      <td>m</td>\n",
       "      <td>3900</td>\n",
       "      <td>3500.0</td>\n",
       "      <td>4300.0</td>\n",
       "    </tr>\n",
       "    <tr>\n",
       "      <th>3</th>\n",
       "      <td>Afghanistan</td>\n",
       "      <td>AF</td>\n",
       "      <td>AFG</td>\n",
       "      <td>4</td>\n",
       "      <td>2017</td>\n",
       "      <td>inc</td>\n",
       "      <td>num</td>\n",
       "      <td>0-4</td>\n",
       "      <td>f</td>\n",
       "      <td>1800</td>\n",
       "      <td>1700.0</td>\n",
       "      <td>1900.0</td>\n",
       "    </tr>\n",
       "    <tr>\n",
       "      <th>4</th>\n",
       "      <td>Afghanistan</td>\n",
       "      <td>AF</td>\n",
       "      <td>AFG</td>\n",
       "      <td>4</td>\n",
       "      <td>2017</td>\n",
       "      <td>inc</td>\n",
       "      <td>num</td>\n",
       "      <td>0-4</td>\n",
       "      <td>m</td>\n",
       "      <td>2200</td>\n",
       "      <td>2000.0</td>\n",
       "      <td>2300.0</td>\n",
       "    </tr>\n",
       "    <tr>\n",
       "      <th>...</th>\n",
       "      <td>...</td>\n",
       "      <td>...</td>\n",
       "      <td>...</td>\n",
       "      <td>...</td>\n",
       "      <td>...</td>\n",
       "      <td>...</td>\n",
       "      <td>...</td>\n",
       "      <td>...</td>\n",
       "      <td>...</td>\n",
       "      <td>...</td>\n",
       "      <td>...</td>\n",
       "      <td>...</td>\n",
       "    </tr>\n",
       "    <tr>\n",
       "      <th>15</th>\n",
       "      <td>Afghanistan</td>\n",
       "      <td>AF</td>\n",
       "      <td>AFG</td>\n",
       "      <td>4</td>\n",
       "      <td>2017</td>\n",
       "      <td>inc</td>\n",
       "      <td>num</td>\n",
       "      <td>45-54</td>\n",
       "      <td>m</td>\n",
       "      <td>4100</td>\n",
       "      <td>3700.0</td>\n",
       "      <td>4500.0</td>\n",
       "    </tr>\n",
       "    <tr>\n",
       "      <th>16</th>\n",
       "      <td>Afghanistan</td>\n",
       "      <td>AF</td>\n",
       "      <td>AFG</td>\n",
       "      <td>4</td>\n",
       "      <td>2017</td>\n",
       "      <td>inc</td>\n",
       "      <td>num</td>\n",
       "      <td>5-14</td>\n",
       "      <td>f</td>\n",
       "      <td>1800</td>\n",
       "      <td>1700.0</td>\n",
       "      <td>1900.0</td>\n",
       "    </tr>\n",
       "    <tr>\n",
       "      <th>17</th>\n",
       "      <td>Afghanistan</td>\n",
       "      <td>AF</td>\n",
       "      <td>AFG</td>\n",
       "      <td>4</td>\n",
       "      <td>2017</td>\n",
       "      <td>inc</td>\n",
       "      <td>num</td>\n",
       "      <td>5-14</td>\n",
       "      <td>m</td>\n",
       "      <td>1700</td>\n",
       "      <td>1600.0</td>\n",
       "      <td>1800.0</td>\n",
       "    </tr>\n",
       "    <tr>\n",
       "      <th>18</th>\n",
       "      <td>Afghanistan</td>\n",
       "      <td>AF</td>\n",
       "      <td>AFG</td>\n",
       "      <td>4</td>\n",
       "      <td>2017</td>\n",
       "      <td>inc</td>\n",
       "      <td>num</td>\n",
       "      <td>55-64</td>\n",
       "      <td>f</td>\n",
       "      <td>3900</td>\n",
       "      <td>3600.0</td>\n",
       "      <td>4300.0</td>\n",
       "    </tr>\n",
       "    <tr>\n",
       "      <th>19</th>\n",
       "      <td>Afghanistan</td>\n",
       "      <td>AF</td>\n",
       "      <td>AFG</td>\n",
       "      <td>4</td>\n",
       "      <td>2017</td>\n",
       "      <td>inc</td>\n",
       "      <td>num</td>\n",
       "      <td>55-64</td>\n",
       "      <td>m</td>\n",
       "      <td>3700</td>\n",
       "      <td>3400.0</td>\n",
       "      <td>4100.0</td>\n",
       "    </tr>\n",
       "  </tbody>\n",
       "</table></div>"
      ],
      "text/plain": [
       "        country iso2 iso3  iso_numeric  year measure unit age_group sex  \\\n",
       "0   Afghanistan   AF  AFG            4  2017     inc  num      0-14   a   \n",
       "1   Afghanistan   AF  AFG            4  2017     inc  num      0-14   f   \n",
       "2   Afghanistan   AF  AFG            4  2017     inc  num      0-14   m   \n",
       "3   Afghanistan   AF  AFG            4  2017     inc  num       0-4   f   \n",
       "4   Afghanistan   AF  AFG            4  2017     inc  num       0-4   m   \n",
       "5   Afghanistan   AF  AFG            4  2017     inc  num     15-24   f   \n",
       "6   Afghanistan   AF  AFG            4  2017     inc  num     15-24   m   \n",
       "7   Afghanistan   AF  AFG            4  2017     inc  num    15plus   a   \n",
       "8   Afghanistan   AF  AFG            4  2017     inc  num    15plus   f   \n",
       "9   Afghanistan   AF  AFG            4  2017     inc  num    15plus   m   \n",
       "10  Afghanistan   AF  AFG            4  2017     inc  num     25-34   f   \n",
       "11  Afghanistan   AF  AFG            4  2017     inc  num     25-34   m   \n",
       "12  Afghanistan   AF  AFG            4  2017     inc  num     35-44   f   \n",
       "13  Afghanistan   AF  AFG            4  2017     inc  num     35-44   m   \n",
       "14  Afghanistan   AF  AFG            4  2017     inc  num     45-54   f   \n",
       "15  Afghanistan   AF  AFG            4  2017     inc  num     45-54   m   \n",
       "16  Afghanistan   AF  AFG            4  2017     inc  num      5-14   f   \n",
       "17  Afghanistan   AF  AFG            4  2017     inc  num      5-14   m   \n",
       "18  Afghanistan   AF  AFG            4  2017     inc  num     55-64   f   \n",
       "19  Afghanistan   AF  AFG            4  2017     inc  num     55-64   m   \n",
       "\n",
       "     best       lo       hi  \n",
       "0    7400   6500.0   8400.0  \n",
       "1    3500   3200.0   3900.0  \n",
       "2    3900   3500.0   4300.0  \n",
       "3    1800   1700.0   1900.0  \n",
       "4    2200   2000.0   2300.0  \n",
       "5    7100   6200.0   8000.0  \n",
       "6    6000   5300.0   6700.0  \n",
       "7   60000  38000.0  82000.0  \n",
       "8   31000  23000.0  39000.0  \n",
       "9   29000  22000.0  36000.0  \n",
       "10   6300   5500.0   7000.0  \n",
       "11   5900   5200.0   6600.0  \n",
       "12   5400   4800.0   6000.0  \n",
       "13   5200   4600.0   5700.0  \n",
       "14   4600   4100.0   5000.0  \n",
       "15   4100   3700.0   4500.0  \n",
       "16   1800   1700.0   1900.0  \n",
       "17   1700   1600.0   1800.0  \n",
       "18   3900   3600.0   4300.0  \n",
       "19   3700   3400.0   4100.0  "
      ]
     },
     "execution_count": 19,
     "metadata": {},
     "output_type": "execute_result"
    }
   ],
   "source": [
    "df.head(20)"
   ]
  },
  {
   "cell_type": "markdown",
   "metadata": {},
   "source": [
    "#### Answer:"
   ]
  },
  {
   "cell_type": "markdown",
   "metadata": {},
   "source": [
    "#### Question 3\n",
    "##### Perform the following actions on `tb_data` object:\n",
    "- Check the type of the object\n",
    "- Get the shape of the object and save it to 2 variables and print both:\n",
    "    - `nrows`\n",
    "    - `ncols`"
   ]
  },
  {
   "cell_type": "markdown",
   "metadata": {},
   "source": [
    "#### Answer:"
   ]
  },
  {
   "cell_type": "code",
   "execution_count": 22,
   "metadata": {},
   "outputs": [
    {
     "name": "stdout",
     "output_type": "stream",
     "text": [
      "3848\n",
      "12\n"
     ]
    }
   ],
   "source": [
    "nrows, ncols = df.shape\n",
    "print(nrows)\n",
    "print(ncols)"
   ]
  },
  {
   "cell_type": "markdown",
   "metadata": {},
   "source": [
    "#### Question 4\n",
    "##### Use sample function to:\n",
    "    - print first 5 rows in tb_data\n",
    "    - print 3 random rows in tb_data\n",
    "    - print 0.1% random rows in tb_data"
   ]
  },
  {
   "cell_type": "code",
   "execution_count": null,
   "metadata": {},
   "outputs": [],
   "source": []
  },
  {
   "cell_type": "markdown",
   "metadata": {},
   "source": [
    "#### Answer:"
   ]
  },
  {
   "cell_type": "markdown",
   "metadata": {},
   "source": [
    "#### Question 5\n",
    "##### Inspect tb_data with the following information:\n",
    "    - columns\n",
    "    - data types\n",
    "    - info\n",
    "    - statistical summary (describe)"
   ]
  },
  {
   "cell_type": "markdown",
   "metadata": {},
   "source": [
    "#### Answer:"
   ]
  },
  {
   "cell_type": "markdown",
   "metadata": {},
   "source": [
    "##### Note: We do not have any specific ID variable we can use as an index."
   ]
  },
  {
   "cell_type": "markdown",
   "metadata": {},
   "source": [
    "## Exercise 2"
   ]
  },
  {
   "cell_type": "markdown",
   "metadata": {},
   "source": [
    "#### Question 1\n",
    "##### Split the data to be grouped by age group. \n",
    "##### Group by the column `age_group` and assign it to a dataframe named `grouped_df`."
   ]
  },
  {
   "cell_type": "markdown",
   "metadata": {},
   "source": [
    "#### Answer:"
   ]
  },
  {
   "cell_type": "markdown",
   "metadata": {},
   "source": [
    "#### Question 2\n",
    "##### Use the summary functions to get the mean number of `best` for all the age groups you just grouped in `grouped_df`.\n",
    "##### Assign the output to a dataframe called `age_best` and print that dataframe to the console."
   ]
  },
  {
   "cell_type": "markdown",
   "metadata": {},
   "source": [
    "#### Answer:"
   ]
  },
  {
   "cell_type": "markdown",
   "metadata": {},
   "source": [
    "#### Question 3\n",
    "##### Use the summary functions to get the max number of `lo` for all the age groups grouped by the column `age_group`.\n",
    "##### Assign the output to a dataframe called `age_low` and print that dataframe to the console.\n",
    "##### Make sure all values are rounded to the next integer."
   ]
  },
  {
   "cell_type": "markdown",
   "metadata": {},
   "source": [
    "#### Answer:"
   ]
  },
  {
   "cell_type": "markdown",
   "metadata": {},
   "source": [
    "#### Question 4\n",
    "##### Sort the values of `age_lo` in descending order"
   ]
  },
  {
   "cell_type": "markdown",
   "metadata": {},
   "source": [
    "#### Answer:"
   ]
  },
  {
   "cell_type": "markdown",
   "metadata": {},
   "source": [
    "#### Question 5\n",
    "##### Filter the values of `age_best` for values of `best` that are above 10000.\n",
    "\n"
   ]
  },
  {
   "cell_type": "markdown",
   "metadata": {},
   "source": [
    "#### Answer:"
   ]
  },
  {
   "cell_type": "markdown",
   "metadata": {},
   "source": [
    "#### Question 6\n",
    "##### In `age_best`, create a new boolean column (containing values True or False) called `high` \n",
    "##### that indicates whether a row has a value for `best` that is higher than 10000.\n",
    "\n",
    "\n"
   ]
  },
  {
   "cell_type": "markdown",
   "metadata": {},
   "source": [
    "#### Answer:"
   ]
  },
  {
   "cell_type": "markdown",
   "metadata": {},
   "source": [
    "## Exercise 3"
   ]
  },
  {
   "cell_type": "markdown",
   "metadata": {},
   "source": [
    "#### Question 1\n",
    "##### Subset `tb_data`, so that the new dataframe only contains the columns `best`, `lo`, and `hi`\n",
    "##### Call the new dataframe `tb_subset`"
   ]
  },
  {
   "cell_type": "markdown",
   "metadata": {},
   "source": [
    "#### Answer:"
   ]
  },
  {
   "cell_type": "markdown",
   "metadata": {},
   "source": [
    "#### Question 2\n",
    "##### Check the count of missing values NAs by columns."
   ]
  },
  {
   "cell_type": "markdown",
   "metadata": {},
   "source": [
    "#### Answer:"
   ]
  },
  {
   "cell_type": "markdown",
   "metadata": {},
   "source": [
    "#### Question 3\n",
    "##### We just saw that there are NAs in our data.\n",
    "##### Impute missing values using the mean of the column."
   ]
  },
  {
   "cell_type": "markdown",
   "metadata": {},
   "source": [
    "#### Answer:"
   ]
  },
  {
   "cell_type": "markdown",
   "metadata": {},
   "source": [
    "#### Question 4\n",
    "##### Let us convert `best` to a categorical variable with two levels.\n",
    "##### Convert values in `best` below 5000 to `low` and above or equal to 5000 to `high`."
   ]
  },
  {
   "cell_type": "markdown",
   "metadata": {},
   "source": [
    "#### Answer:"
   ]
  },
  {
   "cell_type": "markdown",
   "metadata": {},
   "source": [
    "#### Question 5\n",
    "##### Check the type of the variable `best` and convert it to boolean, so that it has the value `True` for `high` and `False` for `low`"
   ]
  },
  {
   "cell_type": "markdown",
   "metadata": {},
   "source": [
    "#### Answer:"
   ]
  },
  {
   "cell_type": "markdown",
   "metadata": {},
   "source": [
    "#### Question 6\n",
    "##### Group `tb_subset` by variable `best`. Save as `tb_grouped`.\n",
    "##### Convert `tb_grouped` to a wide dataframe by taking mean of `tb_grouped` and specifying the variables `lo` and `hi`.\n",
    "##### Print results.\n",
    "##### Reset the index of `tb_grouped_mean` and print results again."
   ]
  },
  {
   "cell_type": "markdown",
   "metadata": {},
   "source": [
    "#### Answer:"
   ]
  },
  {
   "cell_type": "markdown",
   "metadata": {},
   "source": [
    "#### Question 7\n",
    "##### Change the dataframe `tb_grouped_mean` to be a long dataframe.\n",
    "##### The resulting column names should be `best`, `type` (contains the column names of the wide dataframe), and `value` (containts the values from the wide dataframe).\n",
    "##### Name the resulting dataframe `tb_subset_long`."
   ]
  },
  {
   "cell_type": "markdown",
   "metadata": {},
   "source": [
    "#### Answer:"
   ]
  }
 ],
 "metadata": {
  "kernelspec": {
   "display_name": "Python 3.9.7 ('base')",
   "language": "python",
   "name": "python3"
  },
  "language_info": {
   "codemirror_mode": {
    "name": "ipython",
    "version": 3
   },
   "file_extension": ".py",
   "mimetype": "text/x-python",
   "name": "python",
   "nbconvert_exporter": "python",
   "pygments_lexer": "ipython3",
   "version": "3.9.7"
  },
  "toc": {
   "base_numbering": 1,
   "nav_menu": {},
   "number_sections": true,
   "sideBar": true,
   "skip_h1_title": false,
   "title_cell": "Table of Contents",
   "title_sidebar": "Contents",
   "toc_cell": false,
   "toc_position": {},
   "toc_section_display": true,
   "toc_window_display": false
  },
  "vscode": {
   "interpreter": {
    "hash": "ad2bdc8ecc057115af97d19610ffacc2b4e99fae6737bb82f5d7fb13d2f2c186"
   }
  }
 },
 "nbformat": 4,
 "nbformat_minor": 2
}
