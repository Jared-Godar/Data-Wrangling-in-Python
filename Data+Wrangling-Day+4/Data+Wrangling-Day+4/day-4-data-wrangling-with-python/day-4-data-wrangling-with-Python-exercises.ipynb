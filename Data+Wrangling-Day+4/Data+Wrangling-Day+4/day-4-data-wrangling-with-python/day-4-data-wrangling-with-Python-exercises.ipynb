{
 "cells": [
  {
   "cell_type": "markdown",
   "metadata": {},
   "source": [
    "# Day 4 Data wrangling with Python - Exercises "
   ]
  },
  {
   "cell_type": "markdown",
   "metadata": {},
   "source": [
    "## Exercise 1"
   ]
  },
  {
   "cell_type": "markdown",
   "metadata": {},
   "source": [
    "#### Question 1\n",
    "##### Load packages os, pandas and numpy.\n"
   ]
  },
  {
   "cell_type": "code",
   "execution_count": 1,
   "metadata": {},
   "outputs": [],
   "source": [
    "import pathlib"
   ]
  },
  {
   "cell_type": "code",
   "execution_count": 13,
   "metadata": {},
   "outputs": [],
   "source": [
    "tb = pathlib.Path.cwd().parent.parent.parent / 'data' / 'data' / 'TB_data.csv'"
   ]
  },
  {
   "cell_type": "code",
   "execution_count": 14,
   "metadata": {},
   "outputs": [
    {
     "data": {
      "text/plain": [
       "WindowsPath('c:/cgi-data-science/Data-Wrangling-in-Python/data/data/TB_data.csv')"
      ]
     },
     "execution_count": 14,
     "metadata": {},
     "output_type": "execute_result"
    }
   ],
   "source": [
    "tb"
   ]
  },
  {
   "cell_type": "code",
   "execution_count": 18,
   "metadata": {},
   "outputs": [],
   "source": [
    "df = pd.read_csv('TB_data.csv')"
   ]
  },
  {
   "cell_type": "markdown",
   "metadata": {},
   "source": [
    "##### Set the working directory to data directory.\n",
    "##### Print the working directory."
   ]
  },
  {
   "cell_type": "code",
   "execution_count": null,
   "metadata": {},
   "outputs": [],
   "source": []
  },
  {
   "cell_type": "markdown",
   "metadata": {},
   "source": [
    "#### Answer:"
   ]
  },
  {
   "cell_type": "markdown",
   "metadata": {},
   "source": [
    "#### Question 2\n",
    "##### Read in 'TB_data.csv' into a variable called `tb_data` using pandas.\n"
   ]
  },
  {
   "cell_type": "code",
   "execution_count": null,
   "metadata": {},
   "outputs": [],
   "source": []
  },
  {
   "cell_type": "markdown",
   "metadata": {},
   "source": [
    "##### Print the first 20 rows of the DataFrame."
   ]
  },
  {
   "cell_type": "code",
   "execution_count": 19,
   "metadata": {},
   "outputs": [
    {
     "data": {
      "text/html": [
       "<div><div id=d3e55f62-65da-4016-8740-606c28e1d8e4 style=\"display:none; background-color:#9D6CFF; color:white; width:200px; height:30px; padding-left:5px; border-radius:4px; flex-direction:row; justify-content:space-around; align-items:center;\" onmouseover=\"this.style.backgroundColor='#BA9BF8'\" onmouseout=\"this.style.backgroundColor='#9D6CFF'\" onclick=\"window.commands?.execute('create-mitosheet-from-dataframe-output');\">See Full Dataframe in Mito</div> <script> if (window.commands?.hasCommand('create-mitosheet-from-dataframe-output')) document.getElementById('d3e55f62-65da-4016-8740-606c28e1d8e4').style.display = 'flex' </script> <table border=\"1\" class=\"dataframe\">\n",
       "  <thead>\n",
       "    <tr style=\"text-align: right;\">\n",
       "      <th></th>\n",
       "      <th>country</th>\n",
       "      <th>iso2</th>\n",
       "      <th>iso3</th>\n",
       "      <th>iso_numeric</th>\n",
       "      <th>year</th>\n",
       "      <th>measure</th>\n",
       "      <th>unit</th>\n",
       "      <th>age_group</th>\n",
       "      <th>sex</th>\n",
       "      <th>best</th>\n",
       "      <th>lo</th>\n",
       "      <th>hi</th>\n",
       "    </tr>\n",
       "  </thead>\n",
       "  <tbody>\n",
       "    <tr>\n",
       "      <th>0</th>\n",
       "      <td>Afghanistan</td>\n",
       "      <td>AF</td>\n",
       "      <td>AFG</td>\n",
       "      <td>4</td>\n",
       "      <td>2017</td>\n",
       "      <td>inc</td>\n",
       "      <td>num</td>\n",
       "      <td>0-14</td>\n",
       "      <td>a</td>\n",
       "      <td>7400</td>\n",
       "      <td>6500.0</td>\n",
       "      <td>8400.0</td>\n",
       "    </tr>\n",
       "    <tr>\n",
       "      <th>1</th>\n",
       "      <td>Afghanistan</td>\n",
       "      <td>AF</td>\n",
       "      <td>AFG</td>\n",
       "      <td>4</td>\n",
       "      <td>2017</td>\n",
       "      <td>inc</td>\n",
       "      <td>num</td>\n",
       "      <td>0-14</td>\n",
       "      <td>f</td>\n",
       "      <td>3500</td>\n",
       "      <td>3200.0</td>\n",
       "      <td>3900.0</td>\n",
       "    </tr>\n",
       "    <tr>\n",
       "      <th>2</th>\n",
       "      <td>Afghanistan</td>\n",
       "      <td>AF</td>\n",
       "      <td>AFG</td>\n",
       "      <td>4</td>\n",
       "      <td>2017</td>\n",
       "      <td>inc</td>\n",
       "      <td>num</td>\n",
       "      <td>0-14</td>\n",
       "      <td>m</td>\n",
       "      <td>3900</td>\n",
       "      <td>3500.0</td>\n",
       "      <td>4300.0</td>\n",
       "    </tr>\n",
       "    <tr>\n",
       "      <th>3</th>\n",
       "      <td>Afghanistan</td>\n",
       "      <td>AF</td>\n",
       "      <td>AFG</td>\n",
       "      <td>4</td>\n",
       "      <td>2017</td>\n",
       "      <td>inc</td>\n",
       "      <td>num</td>\n",
       "      <td>0-4</td>\n",
       "      <td>f</td>\n",
       "      <td>1800</td>\n",
       "      <td>1700.0</td>\n",
       "      <td>1900.0</td>\n",
       "    </tr>\n",
       "    <tr>\n",
       "      <th>4</th>\n",
       "      <td>Afghanistan</td>\n",
       "      <td>AF</td>\n",
       "      <td>AFG</td>\n",
       "      <td>4</td>\n",
       "      <td>2017</td>\n",
       "      <td>inc</td>\n",
       "      <td>num</td>\n",
       "      <td>0-4</td>\n",
       "      <td>m</td>\n",
       "      <td>2200</td>\n",
       "      <td>2000.0</td>\n",
       "      <td>2300.0</td>\n",
       "    </tr>\n",
       "    <tr>\n",
       "      <th>...</th>\n",
       "      <td>...</td>\n",
       "      <td>...</td>\n",
       "      <td>...</td>\n",
       "      <td>...</td>\n",
       "      <td>...</td>\n",
       "      <td>...</td>\n",
       "      <td>...</td>\n",
       "      <td>...</td>\n",
       "      <td>...</td>\n",
       "      <td>...</td>\n",
       "      <td>...</td>\n",
       "      <td>...</td>\n",
       "    </tr>\n",
       "    <tr>\n",
       "      <th>15</th>\n",
       "      <td>Afghanistan</td>\n",
       "      <td>AF</td>\n",
       "      <td>AFG</td>\n",
       "      <td>4</td>\n",
       "      <td>2017</td>\n",
       "      <td>inc</td>\n",
       "      <td>num</td>\n",
       "      <td>45-54</td>\n",
       "      <td>m</td>\n",
       "      <td>4100</td>\n",
       "      <td>3700.0</td>\n",
       "      <td>4500.0</td>\n",
       "    </tr>\n",
       "    <tr>\n",
       "      <th>16</th>\n",
       "      <td>Afghanistan</td>\n",
       "      <td>AF</td>\n",
       "      <td>AFG</td>\n",
       "      <td>4</td>\n",
       "      <td>2017</td>\n",
       "      <td>inc</td>\n",
       "      <td>num</td>\n",
       "      <td>5-14</td>\n",
       "      <td>f</td>\n",
       "      <td>1800</td>\n",
       "      <td>1700.0</td>\n",
       "      <td>1900.0</td>\n",
       "    </tr>\n",
       "    <tr>\n",
       "      <th>17</th>\n",
       "      <td>Afghanistan</td>\n",
       "      <td>AF</td>\n",
       "      <td>AFG</td>\n",
       "      <td>4</td>\n",
       "      <td>2017</td>\n",
       "      <td>inc</td>\n",
       "      <td>num</td>\n",
       "      <td>5-14</td>\n",
       "      <td>m</td>\n",
       "      <td>1700</td>\n",
       "      <td>1600.0</td>\n",
       "      <td>1800.0</td>\n",
       "    </tr>\n",
       "    <tr>\n",
       "      <th>18</th>\n",
       "      <td>Afghanistan</td>\n",
       "      <td>AF</td>\n",
       "      <td>AFG</td>\n",
       "      <td>4</td>\n",
       "      <td>2017</td>\n",
       "      <td>inc</td>\n",
       "      <td>num</td>\n",
       "      <td>55-64</td>\n",
       "      <td>f</td>\n",
       "      <td>3900</td>\n",
       "      <td>3600.0</td>\n",
       "      <td>4300.0</td>\n",
       "    </tr>\n",
       "    <tr>\n",
       "      <th>19</th>\n",
       "      <td>Afghanistan</td>\n",
       "      <td>AF</td>\n",
       "      <td>AFG</td>\n",
       "      <td>4</td>\n",
       "      <td>2017</td>\n",
       "      <td>inc</td>\n",
       "      <td>num</td>\n",
       "      <td>55-64</td>\n",
       "      <td>m</td>\n",
       "      <td>3700</td>\n",
       "      <td>3400.0</td>\n",
       "      <td>4100.0</td>\n",
       "    </tr>\n",
       "  </tbody>\n",
       "</table></div>"
      ],
      "text/plain": [
       "        country iso2 iso3  iso_numeric  year measure unit age_group sex  \\\n",
       "0   Afghanistan   AF  AFG            4  2017     inc  num      0-14   a   \n",
       "1   Afghanistan   AF  AFG            4  2017     inc  num      0-14   f   \n",
       "2   Afghanistan   AF  AFG            4  2017     inc  num      0-14   m   \n",
       "3   Afghanistan   AF  AFG            4  2017     inc  num       0-4   f   \n",
       "4   Afghanistan   AF  AFG            4  2017     inc  num       0-4   m   \n",
       "5   Afghanistan   AF  AFG            4  2017     inc  num     15-24   f   \n",
       "6   Afghanistan   AF  AFG            4  2017     inc  num     15-24   m   \n",
       "7   Afghanistan   AF  AFG            4  2017     inc  num    15plus   a   \n",
       "8   Afghanistan   AF  AFG            4  2017     inc  num    15plus   f   \n",
       "9   Afghanistan   AF  AFG            4  2017     inc  num    15plus   m   \n",
       "10  Afghanistan   AF  AFG            4  2017     inc  num     25-34   f   \n",
       "11  Afghanistan   AF  AFG            4  2017     inc  num     25-34   m   \n",
       "12  Afghanistan   AF  AFG            4  2017     inc  num     35-44   f   \n",
       "13  Afghanistan   AF  AFG            4  2017     inc  num     35-44   m   \n",
       "14  Afghanistan   AF  AFG            4  2017     inc  num     45-54   f   \n",
       "15  Afghanistan   AF  AFG            4  2017     inc  num     45-54   m   \n",
       "16  Afghanistan   AF  AFG            4  2017     inc  num      5-14   f   \n",
       "17  Afghanistan   AF  AFG            4  2017     inc  num      5-14   m   \n",
       "18  Afghanistan   AF  AFG            4  2017     inc  num     55-64   f   \n",
       "19  Afghanistan   AF  AFG            4  2017     inc  num     55-64   m   \n",
       "\n",
       "     best       lo       hi  \n",
       "0    7400   6500.0   8400.0  \n",
       "1    3500   3200.0   3900.0  \n",
       "2    3900   3500.0   4300.0  \n",
       "3    1800   1700.0   1900.0  \n",
       "4    2200   2000.0   2300.0  \n",
       "5    7100   6200.0   8000.0  \n",
       "6    6000   5300.0   6700.0  \n",
       "7   60000  38000.0  82000.0  \n",
       "8   31000  23000.0  39000.0  \n",
       "9   29000  22000.0  36000.0  \n",
       "10   6300   5500.0   7000.0  \n",
       "11   5900   5200.0   6600.0  \n",
       "12   5400   4800.0   6000.0  \n",
       "13   5200   4600.0   5700.0  \n",
       "14   4600   4100.0   5000.0  \n",
       "15   4100   3700.0   4500.0  \n",
       "16   1800   1700.0   1900.0  \n",
       "17   1700   1600.0   1800.0  \n",
       "18   3900   3600.0   4300.0  \n",
       "19   3700   3400.0   4100.0  "
      ]
     },
     "execution_count": 19,
     "metadata": {},
     "output_type": "execute_result"
    }
   ],
   "source": [
    "df.head(20)"
   ]
  },
  {
   "cell_type": "markdown",
   "metadata": {},
   "source": [
    "#### Answer:"
   ]
  },
  {
   "cell_type": "markdown",
   "metadata": {},
   "source": [
    "#### Question 3\n",
    "##### Perform the following actions on `tb_data` object:\n",
    "- Check the type of the object\n",
    "- Get the shape of the object and save it to 2 variables and print both:\n",
    "    - `nrows`\n",
    "    - `ncols`"
   ]
  },
  {
   "cell_type": "markdown",
   "metadata": {},
   "source": [
    "#### Answer:"
   ]
  },
  {
   "cell_type": "code",
   "execution_count": 22,
   "metadata": {},
   "outputs": [
    {
     "name": "stdout",
     "output_type": "stream",
     "text": [
      "3848\n",
      "12\n"
     ]
    }
   ],
   "source": [
    "nrows, ncols = df.shape\n",
    "print(nrows)\n",
    "print(ncols)"
   ]
  },
  {
   "cell_type": "markdown",
   "metadata": {},
   "source": [
    "#### Question 4\n",
    "##### Use sample function to:\n",
    "    - print first 5 rows in tb_data\n",
    "    - print 3 random rows in tb_data\n",
    "    - print 0.1% random rows in tb_data"
   ]
  },
  {
   "cell_type": "code",
   "execution_count": 23,
   "metadata": {},
   "outputs": [
    {
     "data": {
      "text/html": [
       "<div><div id=36ff384b-408c-427f-b412-ca02318b51bd style=\"display:none; background-color:#9D6CFF; color:white; width:200px; height:30px; padding-left:5px; border-radius:4px; flex-direction:row; justify-content:space-around; align-items:center;\" onmouseover=\"this.style.backgroundColor='#BA9BF8'\" onmouseout=\"this.style.backgroundColor='#9D6CFF'\" onclick=\"window.commands?.execute('create-mitosheet-from-dataframe-output');\">See Full Dataframe in Mito</div> <script> if (window.commands?.hasCommand('create-mitosheet-from-dataframe-output')) document.getElementById('36ff384b-408c-427f-b412-ca02318b51bd').style.display = 'flex' </script> <table border=\"1\" class=\"dataframe\">\n",
       "  <thead>\n",
       "    <tr style=\"text-align: right;\">\n",
       "      <th></th>\n",
       "      <th>country</th>\n",
       "      <th>iso2</th>\n",
       "      <th>iso3</th>\n",
       "      <th>iso_numeric</th>\n",
       "      <th>year</th>\n",
       "      <th>measure</th>\n",
       "      <th>unit</th>\n",
       "      <th>age_group</th>\n",
       "      <th>sex</th>\n",
       "      <th>best</th>\n",
       "      <th>lo</th>\n",
       "      <th>hi</th>\n",
       "    </tr>\n",
       "  </thead>\n",
       "  <tbody>\n",
       "    <tr>\n",
       "      <th>0</th>\n",
       "      <td>Afghanistan</td>\n",
       "      <td>AF</td>\n",
       "      <td>AFG</td>\n",
       "      <td>4</td>\n",
       "      <td>2017</td>\n",
       "      <td>inc</td>\n",
       "      <td>num</td>\n",
       "      <td>0-14</td>\n",
       "      <td>a</td>\n",
       "      <td>7400</td>\n",
       "      <td>6500.0</td>\n",
       "      <td>8400.0</td>\n",
       "    </tr>\n",
       "    <tr>\n",
       "      <th>1</th>\n",
       "      <td>Afghanistan</td>\n",
       "      <td>AF</td>\n",
       "      <td>AFG</td>\n",
       "      <td>4</td>\n",
       "      <td>2017</td>\n",
       "      <td>inc</td>\n",
       "      <td>num</td>\n",
       "      <td>0-14</td>\n",
       "      <td>f</td>\n",
       "      <td>3500</td>\n",
       "      <td>3200.0</td>\n",
       "      <td>3900.0</td>\n",
       "    </tr>\n",
       "    <tr>\n",
       "      <th>2</th>\n",
       "      <td>Afghanistan</td>\n",
       "      <td>AF</td>\n",
       "      <td>AFG</td>\n",
       "      <td>4</td>\n",
       "      <td>2017</td>\n",
       "      <td>inc</td>\n",
       "      <td>num</td>\n",
       "      <td>0-14</td>\n",
       "      <td>m</td>\n",
       "      <td>3900</td>\n",
       "      <td>3500.0</td>\n",
       "      <td>4300.0</td>\n",
       "    </tr>\n",
       "    <tr>\n",
       "      <th>3</th>\n",
       "      <td>Afghanistan</td>\n",
       "      <td>AF</td>\n",
       "      <td>AFG</td>\n",
       "      <td>4</td>\n",
       "      <td>2017</td>\n",
       "      <td>inc</td>\n",
       "      <td>num</td>\n",
       "      <td>0-4</td>\n",
       "      <td>f</td>\n",
       "      <td>1800</td>\n",
       "      <td>1700.0</td>\n",
       "      <td>1900.0</td>\n",
       "    </tr>\n",
       "    <tr>\n",
       "      <th>4</th>\n",
       "      <td>Afghanistan</td>\n",
       "      <td>AF</td>\n",
       "      <td>AFG</td>\n",
       "      <td>4</td>\n",
       "      <td>2017</td>\n",
       "      <td>inc</td>\n",
       "      <td>num</td>\n",
       "      <td>0-4</td>\n",
       "      <td>m</td>\n",
       "      <td>2200</td>\n",
       "      <td>2000.0</td>\n",
       "      <td>2300.0</td>\n",
       "    </tr>\n",
       "  </tbody>\n",
       "</table></div>"
      ],
      "text/plain": [
       "       country iso2 iso3  iso_numeric  year measure unit age_group sex  best  \\\n",
       "0  Afghanistan   AF  AFG            4  2017     inc  num      0-14   a  7400   \n",
       "1  Afghanistan   AF  AFG            4  2017     inc  num      0-14   f  3500   \n",
       "2  Afghanistan   AF  AFG            4  2017     inc  num      0-14   m  3900   \n",
       "3  Afghanistan   AF  AFG            4  2017     inc  num       0-4   f  1800   \n",
       "4  Afghanistan   AF  AFG            4  2017     inc  num       0-4   m  2200   \n",
       "\n",
       "       lo      hi  \n",
       "0  6500.0  8400.0  \n",
       "1  3200.0  3900.0  \n",
       "2  3500.0  4300.0  \n",
       "3  1700.0  1900.0  \n",
       "4  2000.0  2300.0  "
      ]
     },
     "execution_count": 23,
     "metadata": {},
     "output_type": "execute_result"
    }
   ],
   "source": [
    "df.head(5)"
   ]
  },
  {
   "cell_type": "code",
   "execution_count": 24,
   "metadata": {},
   "outputs": [
    {
     "data": {
      "text/html": [
       "<div><div id=0abd5235-98d3-45c7-b77f-aa634479c412 style=\"display:none; background-color:#9D6CFF; color:white; width:200px; height:30px; padding-left:5px; border-radius:4px; flex-direction:row; justify-content:space-around; align-items:center;\" onmouseover=\"this.style.backgroundColor='#BA9BF8'\" onmouseout=\"this.style.backgroundColor='#9D6CFF'\" onclick=\"window.commands?.execute('create-mitosheet-from-dataframe-output');\">See Full Dataframe in Mito</div> <script> if (window.commands?.hasCommand('create-mitosheet-from-dataframe-output')) document.getElementById('0abd5235-98d3-45c7-b77f-aa634479c412').style.display = 'flex' </script> <table border=\"1\" class=\"dataframe\">\n",
       "  <thead>\n",
       "    <tr style=\"text-align: right;\">\n",
       "      <th></th>\n",
       "      <th>country</th>\n",
       "      <th>iso2</th>\n",
       "      <th>iso3</th>\n",
       "      <th>iso_numeric</th>\n",
       "      <th>year</th>\n",
       "      <th>measure</th>\n",
       "      <th>unit</th>\n",
       "      <th>age_group</th>\n",
       "      <th>sex</th>\n",
       "      <th>best</th>\n",
       "      <th>lo</th>\n",
       "      <th>hi</th>\n",
       "    </tr>\n",
       "  </thead>\n",
       "  <tbody>\n",
       "    <tr>\n",
       "      <th>3806</th>\n",
       "      <td>Zambia</td>\n",
       "      <td>ZM</td>\n",
       "      <td>ZMB</td>\n",
       "      <td>894</td>\n",
       "      <td>2017</td>\n",
       "      <td>inc</td>\n",
       "      <td>num</td>\n",
       "      <td>15plus</td>\n",
       "      <td>f</td>\n",
       "      <td>20000</td>\n",
       "      <td>16000.0</td>\n",
       "      <td>25000.0</td>\n",
       "    </tr>\n",
       "    <tr>\n",
       "      <th>2864</th>\n",
       "      <td>Rwanda</td>\n",
       "      <td>RW</td>\n",
       "      <td>RWA</td>\n",
       "      <td>646</td>\n",
       "      <td>2017</td>\n",
       "      <td>inc</td>\n",
       "      <td>num</td>\n",
       "      <td>5-14</td>\n",
       "      <td>f</td>\n",
       "      <td>200</td>\n",
       "      <td>190.0</td>\n",
       "      <td>200.0</td>\n",
       "    </tr>\n",
       "    <tr>\n",
       "      <th>1784</th>\n",
       "      <td>Kenya</td>\n",
       "      <td>KE</td>\n",
       "      <td>KEN</td>\n",
       "      <td>404</td>\n",
       "      <td>2017</td>\n",
       "      <td>inc</td>\n",
       "      <td>num</td>\n",
       "      <td>0-14</td>\n",
       "      <td>m</td>\n",
       "      <td>11000</td>\n",
       "      <td>9700.0</td>\n",
       "      <td>12000.0</td>\n",
       "    </tr>\n",
       "  </tbody>\n",
       "</table></div>"
      ],
      "text/plain": [
       "     country iso2 iso3  iso_numeric  year measure unit age_group sex   best  \\\n",
       "3806  Zambia   ZM  ZMB          894  2017     inc  num    15plus   f  20000   \n",
       "2864  Rwanda   RW  RWA          646  2017     inc  num      5-14   f    200   \n",
       "1784   Kenya   KE  KEN          404  2017     inc  num      0-14   m  11000   \n",
       "\n",
       "           lo       hi  \n",
       "3806  16000.0  25000.0  \n",
       "2864    190.0    200.0  \n",
       "1784   9700.0  12000.0  "
      ]
     },
     "execution_count": 24,
     "metadata": {},
     "output_type": "execute_result"
    }
   ],
   "source": [
    "df.sample(3)"
   ]
  },
  {
   "cell_type": "code",
   "execution_count": 25,
   "metadata": {},
   "outputs": [
    {
     "data": {
      "text/html": [
       "<div><div id=f526537f-6f26-49e2-8864-618931230da2 style=\"display:none; background-color:#9D6CFF; color:white; width:200px; height:30px; padding-left:5px; border-radius:4px; flex-direction:row; justify-content:space-around; align-items:center;\" onmouseover=\"this.style.backgroundColor='#BA9BF8'\" onmouseout=\"this.style.backgroundColor='#9D6CFF'\" onclick=\"window.commands?.execute('create-mitosheet-from-dataframe-output');\">See Full Dataframe in Mito</div> <script> if (window.commands?.hasCommand('create-mitosheet-from-dataframe-output')) document.getElementById('f526537f-6f26-49e2-8864-618931230da2').style.display = 'flex' </script> <table border=\"1\" class=\"dataframe\">\n",
       "  <thead>\n",
       "    <tr style=\"text-align: right;\">\n",
       "      <th></th>\n",
       "      <th>country</th>\n",
       "      <th>iso2</th>\n",
       "      <th>iso3</th>\n",
       "      <th>iso_numeric</th>\n",
       "      <th>year</th>\n",
       "      <th>measure</th>\n",
       "      <th>unit</th>\n",
       "      <th>age_group</th>\n",
       "      <th>sex</th>\n",
       "      <th>best</th>\n",
       "      <th>lo</th>\n",
       "      <th>hi</th>\n",
       "    </tr>\n",
       "  </thead>\n",
       "  <tbody>\n",
       "    <tr>\n",
       "      <th>341</th>\n",
       "      <td>Benin</td>\n",
       "      <td>BJ</td>\n",
       "      <td>BEN</td>\n",
       "      <td>204</td>\n",
       "      <td>2017</td>\n",
       "      <td>inc</td>\n",
       "      <td>num</td>\n",
       "      <td>all</td>\n",
       "      <td>m</td>\n",
       "      <td>4000</td>\n",
       "      <td>2800.0</td>\n",
       "      <td>5200.0</td>\n",
       "    </tr>\n",
       "    <tr>\n",
       "      <th>2626</th>\n",
       "      <td>Paraguay</td>\n",
       "      <td>PY</td>\n",
       "      <td>PRY</td>\n",
       "      <td>600</td>\n",
       "      <td>2017</td>\n",
       "      <td>inc</td>\n",
       "      <td>num</td>\n",
       "      <td>65plus</td>\n",
       "      <td>m</td>\n",
       "      <td>220</td>\n",
       "      <td>210.0</td>\n",
       "      <td>230.0</td>\n",
       "    </tr>\n",
       "    <tr>\n",
       "      <th>689</th>\n",
       "      <td>Chile</td>\n",
       "      <td>CL</td>\n",
       "      <td>CHL</td>\n",
       "      <td>152</td>\n",
       "      <td>2017</td>\n",
       "      <td>inc</td>\n",
       "      <td>num</td>\n",
       "      <td>0-14</td>\n",
       "      <td>a</td>\n",
       "      <td>320</td>\n",
       "      <td>300.0</td>\n",
       "      <td>330.0</td>\n",
       "    </tr>\n",
       "    <tr>\n",
       "      <th>791</th>\n",
       "      <td>Colombia</td>\n",
       "      <td>CO</td>\n",
       "      <td>COL</td>\n",
       "      <td>170</td>\n",
       "      <td>2017</td>\n",
       "      <td>inc</td>\n",
       "      <td>num</td>\n",
       "      <td>55-64</td>\n",
       "      <td>f</td>\n",
       "      <td>720</td>\n",
       "      <td>690.0</td>\n",
       "      <td>760.0</td>\n",
       "    </tr>\n",
       "  </tbody>\n",
       "</table></div>"
      ],
      "text/plain": [
       "       country iso2 iso3  iso_numeric  year measure unit age_group sex  best  \\\n",
       "341      Benin   BJ  BEN          204  2017     inc  num       all   m  4000   \n",
       "2626  Paraguay   PY  PRY          600  2017     inc  num    65plus   m   220   \n",
       "689      Chile   CL  CHL          152  2017     inc  num      0-14   a   320   \n",
       "791   Colombia   CO  COL          170  2017     inc  num     55-64   f   720   \n",
       "\n",
       "          lo      hi  \n",
       "341   2800.0  5200.0  \n",
       "2626   210.0   230.0  \n",
       "689    300.0   330.0  \n",
       "791    690.0   760.0  "
      ]
     },
     "execution_count": 25,
     "metadata": {},
     "output_type": "execute_result"
    }
   ],
   "source": [
    "df.sample(frac=0.001)"
   ]
  },
  {
   "cell_type": "markdown",
   "metadata": {},
   "source": [
    "#### Answer:"
   ]
  },
  {
   "cell_type": "markdown",
   "metadata": {},
   "source": [
    "#### Question 5\n",
    "##### Inspect tb_data with the following information:\n",
    "    - columns\n",
    "    - data types\n",
    "    - info\n",
    "    - statistical summary (describe)"
   ]
  },
  {
   "cell_type": "code",
   "execution_count": 26,
   "metadata": {},
   "outputs": [
    {
     "data": {
      "text/plain": [
       "Index(['country', 'iso2', 'iso3', 'iso_numeric', 'year', 'measure', 'unit',\n",
       "       'age_group', 'sex', 'best', 'lo', 'hi'],\n",
       "      dtype='object')"
      ]
     },
     "execution_count": 26,
     "metadata": {},
     "output_type": "execute_result"
    }
   ],
   "source": [
    "df.columns"
   ]
  },
  {
   "cell_type": "code",
   "execution_count": 27,
   "metadata": {},
   "outputs": [
    {
     "data": {
      "text/plain": [
       "country         object\n",
       "iso2            object\n",
       "iso3            object\n",
       "iso_numeric      int64\n",
       "year             int64\n",
       "measure         object\n",
       "unit            object\n",
       "age_group       object\n",
       "sex             object\n",
       "best             int64\n",
       "lo             float64\n",
       "hi             float64\n",
       "dtype: object"
      ]
     },
     "execution_count": 27,
     "metadata": {},
     "output_type": "execute_result"
    }
   ],
   "source": [
    "df.dtypes"
   ]
  },
  {
   "cell_type": "code",
   "execution_count": 28,
   "metadata": {},
   "outputs": [
    {
     "name": "stdout",
     "output_type": "stream",
     "text": [
      "<class 'pandas.core.frame.DataFrame'>\n",
      "RangeIndex: 3848 entries, 0 to 3847\n",
      "Data columns (total 12 columns):\n",
      " #   Column       Non-Null Count  Dtype  \n",
      "---  ------       --------------  -----  \n",
      " 0   country      3848 non-null   object \n",
      " 1   iso2         3823 non-null   object \n",
      " 2   iso3         3848 non-null   object \n",
      " 3   iso_numeric  3848 non-null   int64  \n",
      " 4   year         3848 non-null   int64  \n",
      " 5   measure      3848 non-null   object \n",
      " 6   unit         3848 non-null   object \n",
      " 7   age_group    3848 non-null   object \n",
      " 8   sex          3848 non-null   object \n",
      " 9   best         3848 non-null   int64  \n",
      " 10  lo           3785 non-null   float64\n",
      " 11  hi           3785 non-null   float64\n",
      "dtypes: float64(2), int64(3), object(7)\n",
      "memory usage: 360.9+ KB\n"
     ]
    }
   ],
   "source": [
    "df.info()"
   ]
  },
  {
   "cell_type": "code",
   "execution_count": 29,
   "metadata": {},
   "outputs": [
    {
     "data": {
      "text/html": [
       "<div><div id=e4b24520-47e8-4d23-b605-0928cc24ab74 style=\"display:none; background-color:#9D6CFF; color:white; width:200px; height:30px; padding-left:5px; border-radius:4px; flex-direction:row; justify-content:space-around; align-items:center;\" onmouseover=\"this.style.backgroundColor='#BA9BF8'\" onmouseout=\"this.style.backgroundColor='#9D6CFF'\" onclick=\"window.commands?.execute('create-mitosheet-from-dataframe-output');\">See Full Dataframe in Mito</div> <script> if (window.commands?.hasCommand('create-mitosheet-from-dataframe-output')) document.getElementById('e4b24520-47e8-4d23-b605-0928cc24ab74').style.display = 'flex' </script> <table border=\"1\" class=\"dataframe\">\n",
       "  <thead>\n",
       "    <tr style=\"text-align: right;\">\n",
       "      <th></th>\n",
       "      <th>iso_numeric</th>\n",
       "      <th>year</th>\n",
       "      <th>best</th>\n",
       "      <th>lo</th>\n",
       "      <th>hi</th>\n",
       "    </tr>\n",
       "  </thead>\n",
       "  <tbody>\n",
       "    <tr>\n",
       "      <th>count</th>\n",
       "      <td>3848.000000</td>\n",
       "      <td>3848.0</td>\n",
       "      <td>3.848000e+03</td>\n",
       "      <td>3.785000e+03</td>\n",
       "      <td>3.785000e+03</td>\n",
       "    </tr>\n",
       "    <tr>\n",
       "      <th>mean</th>\n",
       "      <td>441.634356</td>\n",
       "      <td>2017.0</td>\n",
       "      <td>1.305039e+04</td>\n",
       "      <td>1.036034e+04</td>\n",
       "      <td>1.618337e+04</td>\n",
       "    </tr>\n",
       "    <tr>\n",
       "      <th>std</th>\n",
       "      <td>252.658812</td>\n",
       "      <td>0.0</td>\n",
       "      <td>8.784238e+04</td>\n",
       "      <td>6.433981e+04</td>\n",
       "      <td>1.137777e+05</td>\n",
       "    </tr>\n",
       "    <tr>\n",
       "      <th>min</th>\n",
       "      <td>4.000000</td>\n",
       "      <td>2017.0</td>\n",
       "      <td>0.000000e+00</td>\n",
       "      <td>0.000000e+00</td>\n",
       "      <td>0.000000e+00</td>\n",
       "    </tr>\n",
       "    <tr>\n",
       "      <th>25%</th>\n",
       "      <td>222.000000</td>\n",
       "      <td>2017.0</td>\n",
       "      <td>1.600000e+02</td>\n",
       "      <td>1.500000e+02</td>\n",
       "      <td>1.900000e+02</td>\n",
       "    </tr>\n",
       "    <tr>\n",
       "      <th>50%</th>\n",
       "      <td>440.000000</td>\n",
       "      <td>2017.0</td>\n",
       "      <td>6.900000e+02</td>\n",
       "      <td>6.500000e+02</td>\n",
       "      <td>8.000000e+02</td>\n",
       "    </tr>\n",
       "    <tr>\n",
       "      <th>75%</th>\n",
       "      <td>660.000000</td>\n",
       "      <td>2017.0</td>\n",
       "      <td>3.500000e+03</td>\n",
       "      <td>3.100000e+03</td>\n",
       "      <td>4.200000e+03</td>\n",
       "    </tr>\n",
       "    <tr>\n",
       "      <th>max</th>\n",
       "      <td>894.000000</td>\n",
       "      <td>2017.0</td>\n",
       "      <td>2.740000e+06</td>\n",
       "      <td>1.790000e+06</td>\n",
       "      <td>3.690000e+06</td>\n",
       "    </tr>\n",
       "  </tbody>\n",
       "</table></div>"
      ],
      "text/plain": [
       "       iso_numeric    year          best            lo            hi\n",
       "count  3848.000000  3848.0  3.848000e+03  3.785000e+03  3.785000e+03\n",
       "mean    441.634356  2017.0  1.305039e+04  1.036034e+04  1.618337e+04\n",
       "std     252.658812     0.0  8.784238e+04  6.433981e+04  1.137777e+05\n",
       "min       4.000000  2017.0  0.000000e+00  0.000000e+00  0.000000e+00\n",
       "25%     222.000000  2017.0  1.600000e+02  1.500000e+02  1.900000e+02\n",
       "50%     440.000000  2017.0  6.900000e+02  6.500000e+02  8.000000e+02\n",
       "75%     660.000000  2017.0  3.500000e+03  3.100000e+03  4.200000e+03\n",
       "max     894.000000  2017.0  2.740000e+06  1.790000e+06  3.690000e+06"
      ]
     },
     "execution_count": 29,
     "metadata": {},
     "output_type": "execute_result"
    }
   ],
   "source": [
    "df.describe()"
   ]
  },
  {
   "cell_type": "markdown",
   "metadata": {},
   "source": [
    "#### Answer:"
   ]
  },
  {
   "cell_type": "markdown",
   "metadata": {},
   "source": [
    "##### Note: We do not have any specific ID variable we can use as an index."
   ]
  },
  {
   "cell_type": "markdown",
   "metadata": {},
   "source": [
    "## Exercise 2"
   ]
  },
  {
   "cell_type": "markdown",
   "metadata": {},
   "source": [
    "#### Question 1\n",
    "##### Split the data to be grouped by age group. \n",
    "##### Group by the column `age_group` and assign it to a dataframe named `grouped_df`."
   ]
  },
  {
   "cell_type": "markdown",
   "metadata": {},
   "source": [
    "#### Answer:"
   ]
  },
  {
   "cell_type": "markdown",
   "metadata": {},
   "source": [
    "#### Question 2\n",
    "##### Use the summary functions to get the mean number of `best` for all the age groups you just grouped in `grouped_df`.\n",
    "##### Assign the output to a dataframe called `age_best` and print that dataframe to the console."
   ]
  },
  {
   "cell_type": "markdown",
   "metadata": {},
   "source": [
    "#### Answer:"
   ]
  },
  {
   "cell_type": "markdown",
   "metadata": {},
   "source": [
    "#### Question 3\n",
    "##### Use the summary functions to get the max number of `lo` for all the age groups grouped by the column `age_group`.\n",
    "##### Assign the output to a dataframe called `age_low` and print that dataframe to the console.\n",
    "##### Make sure all values are rounded to the next integer."
   ]
  },
  {
   "cell_type": "markdown",
   "metadata": {},
   "source": [
    "#### Answer:"
   ]
  },
  {
   "cell_type": "markdown",
   "metadata": {},
   "source": [
    "#### Question 4\n",
    "##### Sort the values of `age_lo` in descending order"
   ]
  },
  {
   "cell_type": "markdown",
   "metadata": {},
   "source": [
    "#### Answer:"
   ]
  },
  {
   "cell_type": "markdown",
   "metadata": {},
   "source": [
    "#### Question 5\n",
    "##### Filter the values of `age_best` for values of `best` that are above 10000.\n",
    "\n"
   ]
  },
  {
   "cell_type": "markdown",
   "metadata": {},
   "source": [
    "#### Answer:"
   ]
  },
  {
   "cell_type": "markdown",
   "metadata": {},
   "source": [
    "#### Question 6\n",
    "##### In `age_best`, create a new boolean column (containing values True or False) called `high` \n",
    "##### that indicates whether a row has a value for `best` that is higher than 10000.\n",
    "\n",
    "\n"
   ]
  },
  {
   "cell_type": "markdown",
   "metadata": {},
   "source": [
    "#### Answer:"
   ]
  },
  {
   "cell_type": "markdown",
   "metadata": {},
   "source": [
    "## Exercise 3"
   ]
  },
  {
   "cell_type": "markdown",
   "metadata": {},
   "source": [
    "#### Question 1\n",
    "##### Subset `tb_data`, so that the new dataframe only contains the columns `best`, `lo`, and `hi`\n",
    "##### Call the new dataframe `tb_subset`"
   ]
  },
  {
   "cell_type": "markdown",
   "metadata": {},
   "source": [
    "#### Answer:"
   ]
  },
  {
   "cell_type": "markdown",
   "metadata": {},
   "source": [
    "#### Question 2\n",
    "##### Check the count of missing values NAs by columns."
   ]
  },
  {
   "cell_type": "markdown",
   "metadata": {},
   "source": [
    "#### Answer:"
   ]
  },
  {
   "cell_type": "markdown",
   "metadata": {},
   "source": [
    "#### Question 3\n",
    "##### We just saw that there are NAs in our data.\n",
    "##### Impute missing values using the mean of the column."
   ]
  },
  {
   "cell_type": "markdown",
   "metadata": {},
   "source": [
    "#### Answer:"
   ]
  },
  {
   "cell_type": "markdown",
   "metadata": {},
   "source": [
    "#### Question 4\n",
    "##### Let us convert `best` to a categorical variable with two levels.\n",
    "##### Convert values in `best` below 5000 to `low` and above or equal to 5000 to `high`."
   ]
  },
  {
   "cell_type": "markdown",
   "metadata": {},
   "source": [
    "#### Answer:"
   ]
  },
  {
   "cell_type": "markdown",
   "metadata": {},
   "source": [
    "#### Question 5\n",
    "##### Check the type of the variable `best` and convert it to boolean, so that it has the value `True` for `high` and `False` for `low`"
   ]
  },
  {
   "cell_type": "markdown",
   "metadata": {},
   "source": [
    "#### Answer:"
   ]
  },
  {
   "cell_type": "markdown",
   "metadata": {},
   "source": [
    "#### Question 6\n",
    "##### Group `tb_subset` by variable `best`. Save as `tb_grouped`.\n",
    "##### Convert `tb_grouped` to a wide dataframe by taking mean of `tb_grouped` and specifying the variables `lo` and `hi`.\n",
    "##### Print results.\n",
    "##### Reset the index of `tb_grouped_mean` and print results again."
   ]
  },
  {
   "cell_type": "markdown",
   "metadata": {},
   "source": [
    "#### Answer:"
   ]
  },
  {
   "cell_type": "markdown",
   "metadata": {},
   "source": [
    "#### Question 7\n",
    "##### Change the dataframe `tb_grouped_mean` to be a long dataframe.\n",
    "##### The resulting column names should be `best`, `type` (contains the column names of the wide dataframe), and `value` (containts the values from the wide dataframe).\n",
    "##### Name the resulting dataframe `tb_subset_long`."
   ]
  },
  {
   "cell_type": "markdown",
   "metadata": {},
   "source": [
    "#### Answer:"
   ]
  }
 ],
 "metadata": {
  "kernelspec": {
   "display_name": "Python 3.9.7 ('base')",
   "language": "python",
   "name": "python3"
  },
  "language_info": {
   "codemirror_mode": {
    "name": "ipython",
    "version": 3
   },
   "file_extension": ".py",
   "mimetype": "text/x-python",
   "name": "python",
   "nbconvert_exporter": "python",
   "pygments_lexer": "ipython3",
   "version": "3.9.7"
  },
  "toc": {
   "base_numbering": 1,
   "nav_menu": {},
   "number_sections": true,
   "sideBar": true,
   "skip_h1_title": false,
   "title_cell": "Table of Contents",
   "title_sidebar": "Contents",
   "toc_cell": false,
   "toc_position": {},
   "toc_section_display": true,
   "toc_window_display": false
  },
  "vscode": {
   "interpreter": {
    "hash": "ad2bdc8ecc057115af97d19610ffacc2b4e99fae6737bb82f5d7fb13d2f2c186"
   }
  }
 },
 "nbformat": 4,
 "nbformat_minor": 2
}
